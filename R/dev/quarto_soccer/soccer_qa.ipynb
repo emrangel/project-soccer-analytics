{
  "cells": [
    {
      "cell_type": "raw",
      "metadata": {},
      "source": [
        "---\n",
        "title: My first Quarto Dashboard\n",
        "format: dashboard\n",
        "---"
      ],
      "id": "057fd51e"
    },
    {
      "cell_type": "markdown",
      "metadata": {},
      "source": [
        "# Page 1\n",
        "\n",
        "## Row\n"
      ],
      "id": "56b1ee59"
    },
    {
      "cell_type": "code",
      "metadata": {
        "content": "valuebox",
        "title": "Yet another cool number"
      },
      "source": [
        "dict(\n",
        "  icon = \"chat\",\n",
        "  color = \"primary\",\n",
        "  value = 42\n",
        ")"
      ],
      "id": "9e3fe84e",
      "execution_count": null,
      "outputs": []
    },
    {
      "cell_type": "markdown",
      "metadata": {},
      "source": [
        "# Page 2"
      ],
      "id": "b2607924"
    }
  ],
  "metadata": {
    "kernelspec": {
      "display_name": "Python 3",
      "language": "python",
      "name": "python3"
    }
  },
  "nbformat": 4,
  "nbformat_minor": 5
}